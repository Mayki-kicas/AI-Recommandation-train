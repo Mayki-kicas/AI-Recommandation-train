{
 "cells": [
  {
   "cell_type": "markdown",
   "metadata": {},
   "source": [
    "https://realpython.com/nltk-nlp-python/"
   ]
  },
  {
   "cell_type": "code",
   "execution_count": null,
   "metadata": {},
   "outputs": [],
   "source": [
    "import os\n",
    "import nltk\n",
    "from nltk.tokenize import sent_tokenize, word_tokenize\n",
    "from nltk.corpus import stopwords\n",
    "from nltk.stem import PorterStemmer\n",
    "from nltk.tag import StanfordPOSTagger\n",
    "from textblob import TextBlob\n",
    "from IPython.display import Image, display\n",
    "from nltk.draw import TreeWidget\n",
    "from nltk.draw.util import CanvasFrame\n",
    "from nltk.tree import Tree\n",
    "from IPython.display import display\n",
    "\n",
    "jar = 'stanford-postagger-full-2020-11-17/stanford-postagger.jar'\n",
    "model = 'stanford-postagger-full-2020-11-17/models/french-ud.tagger'\n",
    "os.environ['JAVAHOME'] = '/usr/bin/java'\n",
    "\n",
    "# import sentences from asset csv file\n",
    "with open('../asset/SpeechDestination.csv', 'r') as f:\n",
    "    sentences = f.read()\n",
    "\n",
    "# remove first line\n",
    "sentences = sentences.splitlines()[1:]\n",
    "\n",
    "\n",
    "\n",
    "sentencesWords = []\n",
    "# tokenize sentences into words\n",
    "for sentence in sentences:\n",
    "    words = word_tokenize(sentence, language='french')\n",
    "    sentencesWords.append(words)\n",
    "\n",
    "print(sentencesWords)\n",
    "    \n",
    "\n"
   ]
  },
  {
   "cell_type": "code",
   "execution_count": null,
   "metadata": {},
   "outputs": [],
   "source": [
    "stop_words = set(stopwords.words(\"french\"))\n",
    "\n",
    "filteredSentencesWords = []\n",
    "for sentence in sentencesWords:\n",
    "    filtered_list = []\n",
    "    for word in sentence:\n",
    "        if word not in stop_words:\n",
    "            filtered_list.append(word)\n",
    "    filteredSentencesWords.append(filtered_list)\n",
    "\n",
    "print(filteredSentencesWords)\n",
    "    "
   ]
  },
  {
   "cell_type": "code",
   "execution_count": null,
   "metadata": {},
   "outputs": [],
   "source": [
    "# nltk.download(\"maxent_ne_chunker\")\n",
    "# nltk.download(\"words\")\n",
    "# nltk.download(\"averaged_perceptron_tagger\")\n",
    "\n",
    "pos_tagger = StanfordPOSTagger(model, jar, encoding='utf8' )\n",
    "res = pos_tagger.tag(filteredSentencesWords[0])\n",
    "\n",
    "tree = nltk.ne_chunk(res)\n",
    "tree = Tree.fromstring(str(tree))\n",
    "display(tree)\n"
   ]
  }
 ],
 "metadata": {
  "kernelspec": {
   "display_name": "Python 3.9.6 64-bit",
   "language": "python",
   "name": "python3"
  },
  "language_info": {
   "codemirror_mode": {
    "name": "ipython",
    "version": 3
   },
   "file_extension": ".py",
   "mimetype": "text/x-python",
   "name": "python",
   "nbconvert_exporter": "python",
   "pygments_lexer": "ipython3",
   "version": "3.9.6"
  },
  "orig_nbformat": 4,
  "vscode": {
   "interpreter": {
    "hash": "31f2aee4e71d21fbe5cf8b01ff0e069b9275f58929596ceb00d14d90e3e16cd6"
   }
  }
 },
 "nbformat": 4,
 "nbformat_minor": 2
}
