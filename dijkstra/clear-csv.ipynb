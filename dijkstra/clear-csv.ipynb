{
 "cells": [
  {
   "cell_type": "code",
   "execution_count": 8,
   "metadata": {},
   "outputs": [
    {
     "name": "stderr",
     "output_type": "stream",
     "text": [
      "/var/folders/20/8hqfqtqj6mz15_gl2m2q4y900000gp/T/ipykernel_43596/3436155791.py:8: FutureWarning: In a future version of pandas all arguments of StringMethods.split except for the argument 'pat' will be keyword-only.\n",
      "  csv['depart'], csv['destination'] = csv['depart'].str.split(' - ', 1).str\n",
      "/var/folders/20/8hqfqtqj6mz15_gl2m2q4y900000gp/T/ipykernel_43596/3436155791.py:8: FutureWarning: Columnar iteration over characters will be deprecated in future releases.\n",
      "  csv['depart'], csv['destination'] = csv['depart'].str.split(' - ', 1).str\n"
     ]
    }
   ],
   "source": [
    "import pandas as pd\n",
    "csv = pd.read_csv('../timetables.csv', sep='\t')\n",
    "# csv add new column in second position\n",
    "csv.insert(2, 'destination', 0)\n",
    "# rename second column\n",
    "csv.rename(columns={'trajet': 'depart'}, inplace=True)\n",
    "# split depart column into depart and destination\n",
    "csv['depart'], csv['destination'] = csv['depart'].str.split(' - ', 1).str\n",
    "\n",
    "# save to csv\n",
    "csv.to_csv('clearData.csv', sep=',', index=False)\n"
   ]
  }
 ],
 "metadata": {
  "kernelspec": {
   "display_name": "Python 3.9.6 64-bit",
   "language": "python",
   "name": "python3"
  },
  "language_info": {
   "codemirror_mode": {
    "name": "ipython",
    "version": 3
   },
   "file_extension": ".py",
   "mimetype": "text/x-python",
   "name": "python",
   "nbconvert_exporter": "python",
   "pygments_lexer": "ipython3",
   "version": "3.9.6"
  },
  "orig_nbformat": 4,
  "vscode": {
   "interpreter": {
    "hash": "31f2aee4e71d21fbe5cf8b01ff0e069b9275f58929596ceb00d14d90e3e16cd6"
   }
  }
 },
 "nbformat": 4,
 "nbformat_minor": 2
}
