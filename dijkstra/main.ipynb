{
 "cells": [
  {
   "cell_type": "markdown",
   "metadata": {},
   "source": [
    "Explication de l'algorythme de Dijkstra  \n",
    "https://www.freecodecamp.org/news/dijkstras-shortest-path-algorithm-visual-introduction/\n",
    "\n",
    "Tutoriel  \n",
    "https://stackabuse.com/courses/graphs-in-python-theory-and-implementation/lessons/dijkstras-algorithm/  \n",
    "https://www.udacity.com/blog/2021/10/implementing-dijkstras-algorithm-in-python.html"
   ]
  },
  {
   "cell_type": "code",
   "execution_count": 58,
   "metadata": {},
   "outputs": [],
   "source": [
    "import sys\n",
    "import pandas as pd\n"
   ]
  },
  {
   "cell_type": "code",
   "execution_count": 59,
   "metadata": {},
   "outputs": [],
   "source": [
    "class Graph(object):\n",
    "    def __init__(self, nodes, init_graph):\n",
    "        self.nodes = nodes\n",
    "        self.graph = self.construct_graph(nodes, init_graph)\n",
    "        \n",
    "    def construct_graph(self, nodes, init_graph):\n",
    "        '''\n",
    "        This method makes sure that the graph is symmetrical. In other words, if there's a path from node A to B with a value V, there needs to be a path from node B to node A with a value V.\n",
    "        '''\n",
    "        graph = {}\n",
    "        for node in nodes:\n",
    "            graph[node] = {}\n",
    "        \n",
    "        graph.update(init_graph)\n",
    "        \n",
    "        for node, edges in graph.items():\n",
    "            for adjacent_node, value in edges.items():\n",
    "                if graph[adjacent_node].get(node, False) == False:\n",
    "                    graph[adjacent_node][node] = value\n",
    "                    \n",
    "        return graph\n",
    "    \n",
    "    def get_nodes(self):\n",
    "        \"Returns the nodes of the graph.\"\n",
    "        return self.nodes\n",
    "    \n",
    "    def get_outgoing_edges(self, node):\n",
    "        \"Returns the neighbors of a node.\"\n",
    "        connections = []\n",
    "        for out_node in self.nodes:\n",
    "            if self.graph[node].get(out_node, False) != False:\n",
    "                connections.append(out_node)\n",
    "        return connections\n",
    "    \n",
    "    def value(self, node1, node2):\n",
    "        \"Returns the value of an edge between two nodes.\"\n",
    "        return self.graph[node1][node2]"
   ]
  },
  {
   "cell_type": "code",
   "execution_count": 60,
   "metadata": {},
   "outputs": [],
   "source": [
    "# The function takes two arguments: graph and start_node. graph is an instance of the Graph class that we created in the previous step, \n",
    "# whereas start_node is the node from which we’ll start the calculations. \n",
    "def dijkstra_algorithm(graph, start_node):\n",
    "    # We’ll call the get_nodes() method to initialize the list of unvisited nodes:\n",
    "    unvisited_nodes = list(graph.get_nodes())\n",
    "    # shortest_path will store the best-known cost of visiting each city in the graph starting from the start_node\n",
    "    shortest_path = {}\n",
    "    # previous_nodes will store the trajectory of the current best known path for each node.\n",
    "    previous_nodes = {}\n",
    "    # We'll use max_value to initialize the \"infinity\" value of the unvisited nodes   \n",
    "    max_value = sys.maxsize\n",
    "    for node in unvisited_nodes:\n",
    "        shortest_path[node] = max_value\n",
    "    # However, we initialize the starting node's value with 0   \n",
    "    shortest_path[start_node] = 0\n",
    "    # The algorithm executes until we visit all nodes\n",
    "    while unvisited_nodes:\n",
    "        # The code block below finds the node with the lowest score\n",
    "        current_min_node = None\n",
    "        for node in unvisited_nodes: # Iterate over the nodes\n",
    "            if current_min_node == None:\n",
    "                current_min_node = node\n",
    "            elif shortest_path[node] < shortest_path[current_min_node]:\n",
    "                current_min_node = node\n",
    "                \n",
    "        # The code block below retrieves the current node's neighbors and updates their distances\n",
    "        neighbors = graph.get_outgoing_edges(current_min_node)\n",
    "        for neighbor in neighbors:\n",
    "            tentative_value = shortest_path[current_min_node] + graph.value(current_min_node, neighbor)\n",
    "            if tentative_value < shortest_path[neighbor]:\n",
    "                shortest_path[neighbor] = tentative_value\n",
    "                # We also update the best path to the current node\n",
    "                previous_nodes[neighbor] = current_min_node\n",
    " \n",
    "        # After visiting its neighbors, we mark the node as \"visited\"\n",
    "        unvisited_nodes.remove(current_min_node)\n",
    "    \n",
    "    return previous_nodes, shortest_path\n"
   ]
  },
  {
   "cell_type": "code",
   "execution_count": 61,
   "metadata": {},
   "outputs": [],
   "source": [
    "# get all depart from csv\n",
    "def get_all_locations():\n",
    "    locations = []\n",
    "    df = pd.read_csv('clearData.csv')\n",
    "    for index, row in df.iterrows():\n",
    "        locations.append(row['depart'])\n",
    "        if row['destination'] not in locations:\n",
    "            locations.append(row['destination'])\n",
    "    return locations\n",
    "\n",
    "nodes = get_all_locations()\n",
    "\n",
    "def print_result(previous_nodes, shortest_path, start_node, target_node):\n",
    "    path = []\n",
    "    node = target_node\n",
    "    while node != start_node:\n",
    "        path.append(node)\n",
    "        node = previous_nodes[node]\n",
    "    # Add the start node manually\n",
    "    path.append(start_node)\n",
    "    print(\"We found the following best path with a value of {}.\".format(shortest_path[target_node]))\n",
    "    print(\" -> \".join(reversed(path)))\n",
    "    \n",
    "\n",
    "def get_2_random_locations():\n",
    "    df = pd.read_csv('clearData.csv')\n",
    "    depart = df['depart'].sample().iloc[0]\n",
    "    destination = df['destination'].sample().iloc[0]\n",
    "    return depart, destination"
   ]
  },
  {
   "cell_type": "code",
   "execution_count": 62,
   "metadata": {},
   "outputs": [],
   "source": [
    "\n",
    "init_graph = {}\n",
    "for node in nodes:\n",
    "    init_graph[node] = {}\n",
    "\n",
    "df = pd.read_csv('clearData.csv')\n",
    "for index, row in df.iterrows():\n",
    "    init_graph[row['depart']][row['destination']] = row['duree']\n",
    "\n",
    "graph = Graph(nodes, init_graph)\n",
    "\n"
   ]
  },
  {
   "cell_type": "code",
   "execution_count": 73,
   "metadata": {},
   "outputs": [
    {
     "name": "stdout",
     "output_type": "stream",
     "text": [
      "Départ :  Gare de Paris-Est  Destination :  Gare de Nîmes\n",
      "We found the following best path with a value of 525.\n",
      "Gare de Paris-Est -> Gare de Dijon-Ville -> Gare de Lyon-Part-Dieu -> Gare de Avignon-Centre -> Gare de Nîmes\n"
     ]
    }
   ],
   "source": [
    "depart, destination = get_2_random_locations()\n",
    "print('Départ : ', depart , ' Destination : ', destination)\n",
    "previous_nodes, shortest_path = dijkstra_algorithm(graph, depart)\n",
    "print_result(previous_nodes, shortest_path, depart, destination)\n"
   ]
  }
 ],
 "metadata": {
  "kernelspec": {
   "display_name": "Python 3.9.6 64-bit",
   "language": "python",
   "name": "python3"
  },
  "language_info": {
   "codemirror_mode": {
    "name": "ipython",
    "version": 3
   },
   "file_extension": ".py",
   "mimetype": "text/x-python",
   "name": "python",
   "nbconvert_exporter": "python",
   "pygments_lexer": "ipython3",
   "version": "3.9.6"
  },
  "orig_nbformat": 4,
  "vscode": {
   "interpreter": {
    "hash": "31f2aee4e71d21fbe5cf8b01ff0e069b9275f58929596ceb00d14d90e3e16cd6"
   }
  }
 },
 "nbformat": 4,
 "nbformat_minor": 2
}
