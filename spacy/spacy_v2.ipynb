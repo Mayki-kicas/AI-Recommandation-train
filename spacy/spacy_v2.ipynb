{
 "cells": [
  {
   "cell_type": "code",
   "execution_count": 54,
   "metadata": {},
   "outputs": [],
   "source": [
    "import pandas as pd\n",
    "import spacy\n",
    "import random\n",
    "from spacy.training.example import Example\n",
    "\n",
    "nlp = spacy.load(\"fr_core_news_sm\")\n",
    "\n"
   ]
  },
  {
   "cell_type": "code",
   "execution_count": 55,
   "metadata": {},
   "outputs": [],
   "source": [
    "# TODO : FULL MAJ EVERYWHERE\n",
    "\n",
    "def create_dataset(path, separator, destination=\"DESTINATION\", depart=\"DEPART\", error=\"ERROR\"):\n",
    "    csv = pd.read_csv(path, sep=separator)\n",
    "    dataset = []\n",
    "    index = 0\n",
    "    for text in csv.TEXT:\n",
    "        entities = {'entities': []}\n",
    "        if text.find(csv[depart][index]) != -1:\n",
    "            if csv[error][index] == False:\n",
    "                positionDestination = text.find(csv[destination][index]), text.find(csv[destination][index]) + len(csv[destination][index]), \"DESTINATION\"\n",
    "                entities['entities'].append(positionDestination)\n",
    "                positionDepart = text.find(csv[depart][index]), text.find(csv[depart][index]) + len(csv[depart][index]), \"DEPART\"\n",
    "                entities['entities'].append(positionDepart)\n",
    "        cell = text, entities\n",
    "        # (\"texte\" , {\"entities\": [(0, 5, \"DESTINATION\"), (6, 11, \"DEPART\")]})\n",
    "        dataset.append(cell)\n",
    "        index += 1\n",
    "    return dataset\n",
    "\n",
    "def add_ner_to_nlp(train_data):\n",
    "    # creation pipe vide\n",
    "    nlp = spacy.blank('fr')\n",
    "    if 'ner' not in nlp.pipe_names:\n",
    "        ner = nlp.create_pipe('ner')\n",
    "        # ajout du pipe ner seulement\n",
    "        nlp.add_pipe('ner')\n",
    "        \n",
    "    for text, annotations in train_data:\n",
    "        for startIndex, endIndex, label in annotations.get('entities', []):\n",
    "            ner.add_label(label)\n",
    "    return nlp"
   ]
  },
  {
   "cell_type": "code",
   "execution_count": 56,
   "metadata": {},
   "outputs": [],
   "source": [
    "# train data\n",
    "def train_nlp(nlp, dataset):\n",
    "    n_iter = 30\n",
    "    other_pipes = [pipe for pipe in nlp.pipe_names if pipe != 'ner']\n",
    "    with nlp.disable_pipes(*other_pipes):\n",
    "        optimizer = nlp.begin_training()\n",
    "        for itn in range(n_iter):\n",
    "            # change the order of the examples before every iteration\n",
    "            random.shuffle(dataset)\n",
    "            losses = {}\n",
    "            for text, annotations in dataset:\n",
    "\n",
    "                # Take a string and return a Doc object.\n",
    "                doc = nlp.make_doc(text)\n",
    "                # Construct an Example object from the predicted document and the reference annotations provided as a dictionary\n",
    "                example = Example.from_dict(doc, annotations)\n",
    "\n",
    "                # Update the model\n",
    "                # \"drop\" is to improve the learning results. Deactivate/drop randoms neurons based on the percentage\n",
    "                # sgd = Stochastic Gradient Descent. An optimizer, i.e. a callable to update the model’s weights\n",
    "                nlp.update([example], sgd=optimizer, drop=0.2, losses=losses)\n",
    "            # print('losses -', losses)\n",
    "    return nlp\n"
   ]
  },
  {
   "cell_type": "code",
   "execution_count": 57,
   "metadata": {},
   "outputs": [],
   "source": [
    "# TODO\n",
    "def test_nlp(nlp, model):\n",
    "    for text, annotations in model:\n",
    "        doc = nlp(text)\n",
    "        for ent in doc.ents:\n",
    "            print('Entities', [(ent.text, ent.label_) for ent in doc.ents])"
   ]
  },
  {
   "cell_type": "code",
   "execution_count": 58,
   "metadata": {},
   "outputs": [],
   "source": [
    "def get_destination(nlp, text) -> object:\n",
    "    doc = nlp(text)\n",
    "    return [word.text for word in doc.ents if word.label_ == \"DESTINATION\"]\n",
    "\n",
    "\n",
    "def get_depart(nlp, text) -> object:\n",
    "    doc = nlp(text)\n",
    "    return [word.text for word in doc.ents if word.label_ == \"DEPART\"]\n"
   ]
  },
  {
   "cell_type": "code",
   "execution_count": 59,
   "metadata": {},
   "outputs": [
    {
     "name": "stdout",
     "output_type": "stream",
     "text": [
      "('Je veux aller de Marseille à Paris.', {'entities': [(29, 34, 'DESTINATION'), (17, 26, 'DEPART')]})\n",
      "(\"Il faudrait que j'aille en vacance à Montpellier mais je part de Brest.\", {'entities': [(37, 48, 'DESTINATION'), (65, 70, 'DEPART')]})\n",
      "('Je vais rejoindre ma famille à Nice et je suis actuellement à Toulouse.', {'entities': [(31, 35, 'DESTINATION'), (62, 70, 'DEPART')]})\n",
      "('Je vais bien mais je ne sais pas quel train prendre pour aller de Montpellier à Marseille.', {'entities': [(80, 89, 'DESTINATION'), (66, 77, 'DEPART')]})\n",
      "('Je ne sais pas ce que je cherche.', {'entities': []})\n",
      "(\"C'est une catastrophe mon train est annulé. Je devais faire Toulouse à Montpellier demain soir mais je ne sais pas comment faire.\", {'entities': [(71, 82, 'DESTINATION'), (60, 68, 'DEPART')]})\n",
      "(\"Comment dois-je m'y prendre pour aller de Lille à Carcassone?\", {'entities': [(50, 60, 'DESTINATION'), (42, 47, 'DEPART')]})\n",
      "('Quel est le meilleur itinéraire pour aller de Auxerre à Béziers en passant par Nantes?', {'entities': [(56, 63, 'DESTINATION'), (46, 53, 'DEPART')]})\n",
      "(\"j'aimerais partir de Paris et passer par biarritz pour me rendre à Marseille.\", {'entities': [(67, 76, 'DESTINATION'), (21, 26, 'DEPART')]})\n",
      "('arrivée Abbévillers et départ Abondant', {'entities': [(8, 19, 'DESTINATION'), (30, 38, 'DEPART')]})\n",
      "(\"J'irai bien à la gare d'austerlitz depuis la gare de toulouse\", {'entities': [(17, 34, 'DESTINATION'), (45, 61, 'DEPART')]})\n",
      "('Départ Bordeaux arrivée Nice', {'entities': [(24, 28, 'DESTINATION'), (7, 15, 'DEPART')]})\n",
      "('arrivée Paris gare de lyon en partant de Béziers', {'entities': [(8, 26, 'DESTINATION'), (41, 48, 'DEPART')]})\n",
      "('Je dois aller à Toulon. Mais je ne sais pas comment. Je pars de Saint Ouen.', {'entities': [(16, 22, 'DESTINATION'), (64, 74, 'DEPART')]})\n",
      "('Montpellier à Strasbourg', {'entities': [(14, 24, 'DESTINATION'), (0, 11, 'DEPART')]})\n",
      "('quel est le trajet le plus cours de La Rochelle vers Cannes?', {'entities': [(53, 59, 'DESTINATION'), (36, 47, 'DEPART')]})\n",
      "('Train entre Dijon et Perpignan', {'entities': [(21, 30, 'DESTINATION'), (12, 17, 'DEPART')]})\n",
      "(\"Je pars en vacance à Montpellier. J'habite à Pau\", {'entities': [(21, 32, 'DESTINATION'), (45, 48, 'DEPART')]})\n",
      "(\"Y'a t-il un train qui va de Beziers à Montpellier?\", {'entities': [(38, 49, 'DESTINATION'), (28, 35, 'DEPART')]})\n",
      "('Je souhaite aller à Lille en partant de La Rochelle', {'entities': [(20, 25, 'DESTINATION'), (40, 51, 'DEPART')]})\n",
      "(\"Comment va t'on de Montpellier à Nice?\", {'entities': [(33, 37, 'DESTINATION'), (19, 30, 'DEPART')]})\n",
      "('Nous roulons en voiture', {'entities': []})\n",
      "('Marseille à Bordeaux', {'entities': [(12, 20, 'DESTINATION'), (0, 9, 'DEPART')]})\n",
      "('Depart Brest arrivée Ajaccio', {'entities': [(21, 28, 'DESTINATION'), (7, 12, 'DEPART')]})\n",
      "('Arrivée à Strasbourg en partant de Clermont-ferrand', {'entities': [(35, 51, 'DESTINATION'), (10, 20, 'DEPART')]})\n",
      "('Quel train dois-je prendre pour un Beziers-Montpellier', {'entities': [(43, 54, 'DESTINATION'), (35, 42, 'DEPART')]})\n",
      "(\"Y'a t-il un train partant de Limoges en direction de Paris\", {'entities': [(53, 58, 'DESTINATION'), (29, 36, 'DEPART')]})\n",
      "(\"Y'a t-il un train en direction de Auxerre et partant de Cannes\", {'entities': [(34, 41, 'DESTINATION'), (56, 62, 'DEPART')]})\n",
      "('Quelle est le chemin le plus court pour faire Montpellier à Rennes', {'entities': [(60, 66, 'DESTINATION'), (46, 57, 'DEPART')]})\n",
      "('Et si je dois partir de Narbonne pour Rennes?', {'entities': [(38, 44, 'DESTINATION'), (24, 32, 'DEPART')]})\n",
      "('Quel train va à Strasbourg depuis Narbonne?', {'entities': [(16, 26, 'DESTINATION'), (34, 42, 'DEPART')]})\n",
      "('Je pars de Toulouse. Quel est le chemin le plus opti pour aller à Nice?', {'entities': [(66, 70, 'DESTINATION'), (11, 19, 'DEPART')]})\n",
      "(\"Je pars d'Avignon et je me dirige à Grenoble\", {'entities': [(36, 44, 'DESTINATION'), (10, 17, 'DEPART')]})\n",
      "('Combien de temps pour un train partant de Paris à destination de Carcassone?', {'entities': [(65, 75, 'DESTINATION'), (42, 47, 'DEPART')]})\n",
      "(\"C'est une catastrophe mon train est annulé. Je devais faire Rennes à Montpellier demain soir mais je ne sais pas comment faire.\", {'entities': [(69, 80, 'DESTINATION'), (60, 66, 'DEPART')]})\n",
      "(\"Comment dois-je m'y prendre pour aller de Lille à Pau?\", {'entities': [(50, 53, 'DESTINATION'), (42, 47, 'DEPART')]})\n",
      "('Quel est le meilleur itinéraire pour aller de Montpellier à Béziers en passant par Nantes?', {'entities': [(60, 67, 'DESTINATION'), (46, 57, 'DEPART')]})\n",
      "(\"j'aimerais partir de Béziers et passer par biarritz pour me rendre à Marseille.\", {'entities': [(69, 78, 'DESTINATION'), (21, 28, 'DEPART')]})\n",
      "('arrivée Grenoble et départ Orleans', {'entities': [(8, 16, 'DESTINATION'), (27, 34, 'DEPART')]})\n",
      "('Je souhaite aller à Lyon en partant de La Rochelle', {'entities': [(20, 24, 'DESTINATION'), (39, 50, 'DEPART')]})\n",
      "(\"Comment va t'on de Lyon à Nice?\", {'entities': [(26, 30, 'DESTINATION'), (19, 23, 'DEPART')]})\n",
      "('Ajaccio à Bordeaux', {'entities': [(10, 18, 'DESTINATION'), (0, 7, 'DEPART')]})\n",
      "('Depart Lyon arrivée Ajaccio', {'entities': [(20, 27, 'DESTINATION'), (7, 11, 'DEPART')]})\n"
     ]
    }
   ],
   "source": [
    "dataset = create_dataset(\"../asset/SpeechDestination.csv\", \",\")\n",
    "nlp = add_ner_to_nlp(dataset)\n",
    "nlp = train_nlp(nlp, dataset)\n",
    "\n"
   ]
  },
  {
   "cell_type": "code",
   "execution_count": 61,
   "metadata": {},
   "outputs": [
    {
     "name": "stdout",
     "output_type": "stream",
     "text": [
      "Départ : ['Montpellier'] \n",
      "Arrivée : ['Lyon']\n"
     ]
    }
   ],
   "source": [
    "# TODO : add more sentences, and test the model with sentences from the csv\n",
    "\n",
    "\n",
    "\n",
    "# text = \"Je veux aller à Paris en partant de Lyon\"\n",
    "# text = \"Je veux aller à Lyon en partant de Paris\"\n",
    "# text = \"Quel train dois-je prendre si je veux aller à Montpellier en partant de Toulouse?\"\n",
    "text = \"Je veux partir de Montpellier pour aller à Lyon\"\n",
    "destinations = get_destination(nlp, text)\n",
    "departs = get_depart(nlp, text)\n",
    "\n",
    "# test_nlp(nlp, model)\n",
    "\n",
    "print(f'Départ : {departs} \\nArrivée : {destinations}')"
   ]
  }
 ],
 "metadata": {
  "kernelspec": {
   "display_name": "Python 3.9.6 64-bit",
   "language": "python",
   "name": "python3"
  },
  "language_info": {
   "codemirror_mode": {
    "name": "ipython",
    "version": 3
   },
   "file_extension": ".py",
   "mimetype": "text/x-python",
   "name": "python",
   "nbconvert_exporter": "python",
   "pygments_lexer": "ipython3",
   "version": "3.9.6"
  },
  "orig_nbformat": 4,
  "vscode": {
   "interpreter": {
    "hash": "31f2aee4e71d21fbe5cf8b01ff0e069b9275f58929596ceb00d14d90e3e16cd6"
   }
  }
 },
 "nbformat": 4,
 "nbformat_minor": 2
}
